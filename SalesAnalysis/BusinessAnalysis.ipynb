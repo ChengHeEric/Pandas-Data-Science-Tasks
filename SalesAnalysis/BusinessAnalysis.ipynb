{
 "cells": [
  {
   "cell_type": "markdown",
   "metadata": {},
   "source": [
    "# Sales Analysis\n",
    "## Convert separate sales data into one combined file "
   ]
  },
  {
   "cell_type": "code",
   "execution_count": null,
   "metadata": {},
   "outputs": [],
   "source": [
    "import os\n",
    "import pandas as pd\n",
    "\n",
    "path = r\"C:\\vscode\\active\\Pandas-Data-Science-Tasks\\SalesAnalysis\\Sales_Data\"\n",
    "\n",
    "files = [file for file in os.listdir(path)]\n",
    "data = pd.concat([pd.read_csv(path + \"\\\\\" + file) for file in files])\n",
    "data.to_csv(r\"C:\\vscode\\active\\Pandas-Data-Science-Tasks\\SalesAnalysis\\combined_data.csv\", index=False)"
   ]
  },
  {
   "cell_type": "markdown",
   "metadata": {},
   "source": [
    "## read the combined csv file \n"
   ]
  },
  {
   "cell_type": "code",
   "execution_count": null,
   "metadata": {},
   "outputs": [
    {
     "name": "stdout",
     "output_type": "stream",
     "text": [
      "  Order ID                     Product Quantity Ordered Price Each  \\\n",
      "0   176558        USB-C Charging Cable                2      11.95   \n",
      "1      NaN                         NaN              NaN        NaN   \n",
      "2   176559  Bose SoundSport Headphones                1      99.99   \n",
      "3   176560                Google Phone                1        600   \n",
      "4   176560            Wired Headphones                1      11.99   \n",
      "\n",
      "       Order Date                      Purchase Address  \n",
      "0  04/19/19 08:46          917 1st St, Dallas, TX 75001  \n",
      "1             NaN                                   NaN  \n",
      "2  04/07/19 22:30     682 Chestnut St, Boston, MA 02215  \n",
      "3  04/12/19 14:38  669 Spruce St, Los Angeles, CA 90001  \n",
      "4  04/12/19 14:38  669 Spruce St, Los Angeles, CA 90001  \n",
      "<class 'pandas.core.frame.DataFrame'>\n",
      "RangeIndex: 186850 entries, 0 to 186849\n",
      "Data columns (total 6 columns):\n",
      " #   Column            Non-Null Count   Dtype \n",
      "---  ------            --------------   ----- \n",
      " 0   Order ID          186305 non-null  object\n",
      " 1   Product           186305 non-null  object\n",
      " 2   Quantity Ordered  186305 non-null  object\n",
      " 3   Price Each        186305 non-null  object\n",
      " 4   Order Date        186305 non-null  object\n",
      " 5   Purchase Address  186305 non-null  object\n",
      "dtypes: object(6)\n",
      "memory usage: 8.6+ MB\n",
      "None\n",
      "        Order ID               Product Quantity Ordered Price Each  \\\n",
      "count     186305                186305           186305     186305   \n",
      "unique    178438                    20               10         24   \n",
      "top     Order ID  USB-C Charging Cable                1      11.95   \n",
      "freq         355                 21903           168552      21903   \n",
      "\n",
      "        Order Date  Purchase Address  \n",
      "count       186305            186305  \n",
      "unique      142396            140788  \n",
      "top     Order Date  Purchase Address  \n",
      "freq           355               355  \n"
     ]
    }
   ],
   "source": [
    "combined_data = pd.read_csv(\"combined_data.csv\")\n",
    "print(combined_data.head())\n",
    "print(combined_data.info())\n",
    "print(combined_data.describe())"
   ]
  },
  {
   "cell_type": "markdown",
   "metadata": {},
   "source": [
    "## Print the unique values for each column so that I can eye ball some apparent issues"
   ]
  },
  {
   "cell_type": "code",
   "execution_count": null,
   "metadata": {},
   "outputs": [
    {
     "name": "stdout",
     "output_type": "stream",
     "text": [
      "['USB-C Charging Cable' nan 'Bose SoundSport Headphones' 'Google Phone'\n",
      " 'Wired Headphones' 'Macbook Pro Laptop' 'Lightning Charging Cable'\n",
      " '27in 4K Gaming Monitor' 'AA Batteries (4-pack)'\n",
      " 'Apple Airpods Headphones' 'AAA Batteries (4-pack)' 'iPhone'\n",
      " 'Flatscreen TV' '27in FHD Monitor' '20in Monitor' 'LG Dryer'\n",
      " 'ThinkPad Laptop' 'Vareebadd Phone' 'LG Washing Machine'\n",
      " '34in Ultrawide Monitor' 'Product']\n",
      "['2' nan '1' '3' '5' 'Quantity Ordered' '4' '7' '6' '8' '9']\n",
      "['11.95' nan '99.99' '600' '11.99' '1700' '14.95' '389.99' '3.84' '150'\n",
      " '2.99' '700' '300' '149.99' '109.99' '600.0' '999.99' '400' '379.99'\n",
      " 'Price Each' '700.0' '1700.0' '150.0' '300.0' '400.0']\n"
     ]
    }
   ],
   "source": [
    "print(combined_data[\"Product\"].unique())\n",
    "print(combined_data[\"Quantity Ordered\"].unique())\n",
    "print(combined_data[\"Price Each\"].unique())"
   ]
  },
  {
   "cell_type": "markdown",
   "metadata": {},
   "source": [
    "**there are nan and 'quantity ordered' and 'price each' are not int**\n",
    "## Drop Nan and change data to specific types"
   ]
  },
  {
   "cell_type": "code",
   "execution_count": 5,
   "metadata": {},
   "outputs": [
    {
     "name": "stderr",
     "output_type": "stream",
     "text": [
      "C:\\Users\\heche\\AppData\\Local\\Temp\\ipykernel_3364\\546897770.py:7: UserWarning: Could not infer format, so each element will be parsed individually, falling back to `dateutil`. To ensure parsing is consistent and as-expected, please specify a format.\n",
      "  combined_data[\"Order Date\"] = pd.to_datetime(combined_data[\"Order Date\"])\n"
     ]
    }
   ],
   "source": [
    "combined_data = combined_data.dropna(how='all')\n",
    "combined_data = combined_data[combined_data[\"Quantity Ordered\"].str.isnumeric()]\n",
    "combined_data[\"Quantity Ordered\"] = combined_data[\"Quantity Ordered\"].astype(int)\n",
    "combined_data[\"Price Each\"] = combined_data[\"Price Each\"].astype(float)\n",
    "combined_data[\"Price Each\"] = combined_data[\"Price Each\"].round()\n",
    "combined_data[\"Price Each\"] = combined_data[\"Price Each\"].astype(int)\n",
    "combined_data[\"Order Date\"] = pd.to_datetime(combined_data[\"Order Date\"])\n"
   ]
  },
  {
   "cell_type": "markdown",
   "metadata": {},
   "source": [
    "## Add additional columns to increase the capability of the table"
   ]
  },
  {
   "cell_type": "code",
   "execution_count": null,
   "metadata": {},
   "outputs": [
    {
     "name": "stdout",
     "output_type": "stream",
     "text": [
      "  Order ID                     Product  Quantity Ordered  Price Each  \\\n",
      "0   176558        USB-C Charging Cable                 2          12   \n",
      "2   176559  Bose SoundSport Headphones                 1         100   \n",
      "3   176560                Google Phone                 1         600   \n",
      "4   176560            Wired Headphones                 1          12   \n",
      "5   176561            Wired Headphones                 1          12   \n",
      "\n",
      "           Order Date                      Purchase Address  Month State  \n",
      "0 2019-04-19 08:46:00          917 1st St, Dallas, TX 75001      4    TX  \n",
      "2 2019-04-07 22:30:00     682 Chestnut St, Boston, MA 02215      4    MA  \n",
      "3 2019-04-12 14:38:00  669 Spruce St, Los Angeles, CA 90001      4    CA  \n",
      "4 2019-04-12 14:38:00  669 Spruce St, Los Angeles, CA 90001      4    CA  \n",
      "5 2019-04-30 09:27:00     333 8th St, Los Angeles, CA 90001      4    CA  \n",
      "<class 'pandas.core.frame.DataFrame'>\n",
      "Index: 185950 entries, 0 to 186849\n",
      "Data columns (total 8 columns):\n",
      " #   Column            Non-Null Count   Dtype         \n",
      "---  ------            --------------   -----         \n",
      " 0   Order ID          185950 non-null  object        \n",
      " 1   Product           185950 non-null  object        \n",
      " 2   Quantity Ordered  185950 non-null  int64         \n",
      " 3   Price Each        185950 non-null  int64         \n",
      " 4   Order Date        185950 non-null  datetime64[ns]\n",
      " 5   Purchase Address  185950 non-null  object        \n",
      " 6   Month             185950 non-null  int32         \n",
      " 7   State             185950 non-null  object        \n",
      "dtypes: datetime64[ns](1), int32(1), int64(2), object(4)\n",
      "memory usage: 12.1+ MB\n",
      "None\n"
     ]
    }
   ],
   "source": [
    "\n",
    "combined_data[\"Month\"] = combined_data[\"Order Date\"].dt.month\n",
    "\n",
    "combined_data[\"State\"] = combined_data[\"Purchase Address\"].str.split(\" \").str[-2]\n",
    "\n",
    "print(combined_data.head())\n",
    "print(combined_data.info())\n"
   ]
  },
  {
   "cell_type": "markdown",
   "metadata": {},
   "source": [
    "## Q1 What was the best month for sales? How much was earned that month?"
   ]
  },
  {
   "cell_type": "code",
   "execution_count": 7,
   "metadata": {},
   "outputs": [
    {
     "data": {
      "image/png": "[encoded data removed]",
      "text/plain": [
       "<Figure size 640x480 with 1 Axes>"
      ]
     },
     "metadata": {},
     "output_type": "display_data"
    },
    {
     "name": "stdout",
     "output_type": "stream",
     "text": [
      "the month with the hightest sale is: 12 with a total sale of: 4614482\n"
     ]
    }
   ],
   "source": [
    "#step 5 import the visualization library and plot the data\n",
    "\n",
    "import matplotlib.pyplot as plt\n",
    "import seaborn as sns\n",
    "\n",
    "#step 6 create a column that contains the sales for each order \n",
    "\n",
    "combined_data[\"Sales\"] = combined_data[\"Quantity Ordered\"] * combined_data[\"Price Each\"]\n",
    "\n",
    "# find out the total sales for each month\n",
    "\n",
    "sales_by_month = combined_data.groupby(\"Month\")[\"Sales\"].sum().reset_index()\n",
    "\n",
    "# plot the sales by month\n",
    "\n",
    "sns.barplot(x=\"Month\", y=\"Sales\", data=sales_by_month)\n",
    "plt.show()\n",
    "\n",
    "print(\"the month with the hightest sale is: \" + str(sales_by_month[\"Month\"][sales_by_month[\"Sales\"].idxmax()]) + \" with a total sale of: \" + str(sales_by_month[\"Sales\"].max()))"
   ]
  },
  {
   "cell_type": "markdown",
   "metadata": {},
   "source": [
    "## which city sold the most products?"
   ]
  },
  {
   "cell_type": "code",
   "execution_count": null,
   "metadata": {},
   "outputs": [
    {
     "name": "stdout",
     "output_type": "stream",
     "text": [
      "  Order ID                     Product  Quantity Ordered  Price Each  \\\n",
      "0   176558        USB-C Charging Cable                 2          12   \n",
      "2   176559  Bose SoundSport Headphones                 1         100   \n",
      "3   176560                Google Phone                 1         600   \n",
      "4   176560            Wired Headphones                 1          12   \n",
      "5   176561            Wired Headphones                 1          12   \n",
      "\n",
      "           Order Date                      Purchase Address  Month State  \\\n",
      "0 2019-04-19 08:46:00          917 1st St, Dallas, TX 75001      4    TX   \n",
      "2 2019-04-07 22:30:00     682 Chestnut St, Boston, MA 02215      4    MA   \n",
      "3 2019-04-12 14:38:00  669 Spruce St, Los Angeles, CA 90001      4    CA   \n",
      "4 2019-04-12 14:38:00  669 Spruce St, Los Angeles, CA 90001      4    CA   \n",
      "5 2019-04-30 09:27:00     333 8th St, Los Angeles, CA 90001      4    CA   \n",
      "\n",
      "   Sales          City  \n",
      "0     24        Dallas  \n",
      "2    100        Boston  \n",
      "3    600   Los Angeles  \n",
      "4     12   Los Angeles  \n",
      "5     12   Los Angeles  \n"
     ]
    },
    {
     "data": {
      "image/png": "[encoded data removed]",
      "text/plain": [
       "<Figure size 640x480 with 1 Axes>"
      ]
     },
     "metadata": {},
     "output_type": "display_data"
    },
    {
     "name": "stdout",
     "output_type": "stream",
     "text": [
      "the city with the hightest sale is:  San Francisco with a total sale of: 8264049\n",
      "the city with the most products sold is:  San Francisco with a total sale of: 50239\n"
     ]
    }
   ],
   "source": [
    "\n",
    "combined_data['City'] = combined_data['Purchase Address'].str.split(',').str[-2]\n",
    "print(combined_data.head())\n",
    "\n",
    "sales_by_city = combined_data.groupby('City')['Sales'].sum().reset_index()\n",
    "products_by_city = combined_data.groupby('City')['Quantity Ordered'].sum().reset_index()\n",
    "\n",
    "\n",
    "sns.barplot(x='City', y='Sales', data=sales_by_city)\n",
    "plt.show()\n",
    "\n",
    "print(\"the city with the hightest sale is: \" + str(sales_by_city['City'][sales_by_city['Sales'].idxmax()]) + \" with a total sale of: \" + str(sales_by_city['Sales'].max()))\n",
    "\n",
    "#print the city with the most number of products sold  \n",
    "\n",
    "print(\"the city with the most products sold is: \" + str(products_by_city['City'][products_by_city['Quantity Ordered'].idxmax()]) + \" with a total sale of: \" + str(products_by_city['Quantity Ordered'].max()))\n"
   ]
  },
  {
   "cell_type": "markdown",
   "metadata": {},
   "source": [
    "## What time should we display advertisemens to maximize the likelihood of customer’s buying product?\n"
   ]
  },
  {
   "cell_type": "code",
   "execution_count": null,
   "metadata": {},
   "outputs": [
    {
     "name": "stdout",
     "output_type": "stream",
     "text": [
      "<class 'pandas.core.frame.DataFrame'>\n"
     ]
    },
    {
     "data": {
      "image/png": "[encoded data removed]",
      "text/plain": [
       "<Figure size 640x480 with 1 Axes>"
      ]
     },
     "metadata": {},
     "output_type": "display_data"
    }
   ],
   "source": [
    "\n",
    "#in terms of month Oct to Dec is a good time based on prior analysis \n",
    "\n",
    "#next we want to understand the hour when customer orderred the procuct \n",
    "\n",
    "combined_data['Hour'] = combined_data['Order Date'].dt.hour.astype(int)\n",
    "sales_by_hour = combined_data.groupby('Hour')['Sales'].sum().reset_index()\n",
    "\n",
    "sns.barplot(data = sales_by_hour, x = 'Hour', y='Sales')\n",
    "plt.show()\n",
    "\n",
    "#we should display the adverisement from 11 am to 8 pm "
   ]
  },
  {
   "cell_type": "markdown",
   "metadata": {},
   "source": [
    "## What products are most often sold together?\n"
   ]
  },
  {
   "cell_type": "code",
   "execution_count": null,
   "metadata": {},
   "outputs": [
    {
     "name": "stderr",
     "output_type": "stream",
     "text": [
      "C:\\Users\\heche\\AppData\\Local\\Temp\\ipykernel_3364\\2275093275.py:5: SettingWithCopyWarning: \n",
      "A value is trying to be set on a copy of a slice from a DataFrame.\n",
      "Try using .loc[row_indexer,col_indexer] = value instead\n",
      "\n",
      "See the caveats in the documentation: https://pandas.pydata.org/pandas-docs/stable/user_guide/indexing.html#returning-a-view-versus-a-copy\n",
      "  df['Grouped'] = df.groupby('Order ID')['Product'].transform(lambda x: ','.join(x))\n"
     ]
    }
   ],
   "source": [
    "\n",
    "df = combined_data[combined_data['Order ID'].duplicated(keep=False)]\n",
    "\n",
    "df['Grouped'] = df.groupby('Order ID')['Product'].transform(lambda x: ','.join(x))\n",
    "df2 = df[['Order ID', 'Grouped']].drop_duplicates()"
   ]
  },
  {
   "cell_type": "code",
   "execution_count": 23,
   "metadata": {},
   "outputs": [
    {
     "name": "stdout",
     "output_type": "stream",
     "text": [
      "('iPhone', 'Lightning Charging Cable') 1005\n",
      "('Google Phone', 'USB-C Charging Cable') 987\n",
      "('iPhone', 'Wired Headphones') 447\n",
      "('Google Phone', 'Wired Headphones') 414\n",
      "('Vareebadd Phone', 'USB-C Charging Cable') 361\n",
      "('iPhone', 'Apple Airpods Headphones') 360\n",
      "('Google Phone', 'Bose SoundSport Headphones') 220\n",
      "('USB-C Charging Cable', 'Wired Headphones') 160\n",
      "('Vareebadd Phone', 'Wired Headphones') 143\n",
      "('Lightning Charging Cable', 'Wired Headphones') 92\n"
     ]
    }
   ],
   "source": [
    "from itertools import combinations\n",
    "from collections import Counter\n",
    "\n",
    "count = Counter()\n",
    "\n",
    "for row in df2['Grouped']:\n",
    "    row_list = row.split(',')\n",
    "    count.update(Counter(combinations(row_list, 2)))\n",
    "\n",
    "for key,value in count.most_common(10):\n",
    "    print(key, value)"
   ]
  },
  {
   "cell_type": "markdown",
   "metadata": {},
   "source": [
    "## What product sold the most? Why do you think it sold the most?"
   ]
  },
  {
   "cell_type": "code",
   "execution_count": 26,
   "metadata": {},
   "outputs": [
    {
     "name": "stdout",
     "output_type": "stream",
     "text": [
      "the product with the hightest sale is: Macbook Pro Laptop with a total sale of: 8037600\n"
     ]
    }
   ],
   "source": [
    "sales_by_product = combined_data.groupby('Product')['Sales'].sum().reset_index()\n",
    "print(\"the product with the hightest sale is: \" + str(sales_by_product['Product'][sales_by_product['Sales'].idxmax()]) + \" with a total sale of: \" + str(sales_by_product['Sales'].max()))\n"
   ]
  }
 ],
 "metadata": {
  "kernelspec": {
   "display_name": "Python 3",
   "language": "python",
   "name": "python3"
  },
  "language_info": {
   "codemirror_mode": {
    "name": "ipython",
    "version": 3
   },
   "file_extension": ".py",
   "mimetype": "text/x-python",
   "name": "python",
   "nbconvert_exporter": "python",
   "pygments_lexer": "ipython3",
   "version": "3.12.6"
  }
 },
 "nbformat": 4,
 "nbformat_minor": 2
}
